{
 "cells": [
  {
   "cell_type": "code",
   "execution_count": 13,
   "id": "9087f000-2b82-4fe3-82f3-029e4182c174",
   "metadata": {},
   "outputs": [
    {
     "name": "stdin",
     "output_type": "stream",
     "text": [
      "enter your percentage 55\n"
     ]
    },
    {
     "name": "stdout",
     "output_type": "stream",
     "text": [
      "Grade D\n"
     ]
    }
   ],
   "source": [
    "#Answer1\n",
    "marks=int(input(\"enter your percentage\"))\n",
    "if marks>90:\n",
    "    print(\"Grade A\")\n",
    "elif marks>80 and marks <=90:\n",
    "    print(\"Grade B\")\n",
    "elif marks>=60 and marks <=80:\n",
    "    print(\"Grade C\")\n",
    "else:\n",
    "    print(\"Grade D\")"
   ]
  },
  {
   "cell_type": "code",
   "execution_count": 12,
   "id": "2b62098a-6d98-479d-b509-2db42d14703e",
   "metadata": {},
   "outputs": [
    {
     "name": "stdin",
     "output_type": "stream",
     "text": [
      "enter your cost price 50000\n"
     ]
    },
    {
     "name": "stdout",
     "output_type": "stream",
     "text": [
      "5%\n"
     ]
    }
   ],
   "source": [
    "#Answer2\n",
    "price=int(input(\"enter your cost price\"))\n",
    "if price>100000:\n",
    "    print(\"15%\")\n",
    "elif price>50000 and price <=100000:\n",
    "    print(\"10%\")\n",
    "elif price<=50000:\n",
    "    print(\"5%\")"
   ]
  },
  {
   "cell_type": "code",
   "execution_count": 18,
   "id": "dc627aec-2d57-4c89-bf31-80b81cf3347b",
   "metadata": {},
   "outputs": [
    {
     "name": "stdin",
     "output_type": "stream",
     "text": [
      "enter your city Agra\n"
     ]
    },
    {
     "name": "stdout",
     "output_type": "stream",
     "text": [
      "Taj Mahal\n"
     ]
    }
   ],
   "source": [
    "#Answer3\n",
    "city=input(\"enter your city\")\n",
    "if city==\"delhi\":\n",
    "    print(\"Red Fort\")\n",
    "elif city==\"Agra\":\n",
    "    print(\"Taj Mahal\")\n",
    "elif city==\"Jaipur\":\n",
    "    print(\"Jal Mahal\")"
   ]
  },
  {
   "cell_type": "code",
   "execution_count": 6,
   "id": "379b8d7b-c408-4805-b1bd-070e6f0eda8e",
   "metadata": {},
   "outputs": [
    {
     "name": "stdin",
     "output_type": "stream",
     "text": [
      "Enter a number:  36\n"
     ]
    },
    {
     "name": "stdout",
     "output_type": "stream",
     "text": [
      "The number can be divided by 3 is 2 times before it is less than or equal to 10.\n"
     ]
    }
   ],
   "source": [
    "#Answer4\n",
    "number = int(input(\"Enter a number: \"))\n",
    "count = 0\n",
    "while number > 10:\n",
    "    number = number / 3\n",
    "    count += 1\n",
    "print(\"The number can be divided by 3 is\", count, \"times before it is less than or equal to 10.\")"
   ]
  },
  {
   "cell_type": "code",
   "execution_count": null,
   "id": "07752e3e-0a19-410c-8cae-5526a05b309f",
   "metadata": {},
   "outputs": [],
   "source": [
    "#Answer5\n",
    "Python while loop is used to run a block code until a certain condition is met. Here, A while loop evaluates the condition. If the condition evaluates to True , the code inside the while loop is executed.\n",
    "counter = 1\n",
    "\n",
    "while counter <= 10:\n",
    "    print(counter)\n",
    "    counter += 1"
   ]
  },
  {
   "cell_type": "code",
   "execution_count": 8,
   "id": "a53254c4-b898-47a4-9a0e-269248075aa4",
   "metadata": {},
   "outputs": [
    {
     "name": "stdout",
     "output_type": "stream",
     "text": [
      "Pattern 1\n",
      "1\n",
      "12\n",
      "123\n",
      "1234\n",
      "----------------------------------------------------------------\n",
      "Pattern 2\n",
      "*\n",
      "**\n",
      "***\n",
      "****\n",
      "----------------------------------------------------------------\n",
      "Pattern 3\n",
      "😀😀😆😀😀😆😀😀😆😀😀😆😀😀😆😀😀😆😀😀😆😀😀😆😀😀😆\n",
      "😀😀😆😀😀😆😀😀😆😀😀😆😀😀😆😀😀😆😀😀😆😀😀😆😀😀😆\n",
      "😀😀😆😀😀😆😀😀😆😀😀😆😀😀😆😀😀😆😀😀😆😀😀😆😀😀😆\n",
      "😀😀😆😀😀😆😀😀😆😀😀😆😀😀😆😀😀😆😀😀😆😀😀😆😀😀😆\n",
      "😀😀😆😀😀😆😀😀😆😀😀😆😀😀😆😀😀😆😀😀😆😀😀😆😀😀😆\n",
      "😀😀😆😀😀😆😀😀😆😀😀😆😀😀😆😀😀😆😀😀😆😀😀😆😀😀😆\n",
      "😀😀😆😀😀😆😀😀😆😀😀😆😀😀😆😀😀😆😀😀😆😀😀😆😀😀😆\n",
      "😀😀😆😀😀😆😀😀😆😀😀😆😀😀😆😀😀😆😀😀😆😀😀😆😀😀😆\n",
      "😀😀😆😀😀😆😀😀😆😀😀😆😀😀😆😀😀😆😀😀😆😀😀😆😀😀😆\n"
     ]
    }
   ],
   "source": [
    "#Answer6\n",
    "print(\"Pattern 1\") \n",
    "i=1\n",
    "j=1\n",
    "while i<5:\n",
    "    while j<=i:\n",
    "        print(j, end=\"\")\n",
    "        j+=1\n",
    "    print()\n",
    "    j=1\n",
    "    i+=1\n",
    "\n",
    "print(\"----------------------------------------------------------------\")\n",
    "print(\"Pattern 2\") \n",
    "i=1\n",
    "j=1\n",
    "while i<5:\n",
    "    while j<=i:\n",
    "        print(\"*\", end=\"\")\n",
    "        j+=1\n",
    "    print()\n",
    "    j=1\n",
    "    i+=1\n",
    "\n",
    "print(\"----------------------------------------------------------------\")\n",
    "print(\"Pattern 3\") \n",
    "i=1\n",
    "j=1\n",
    "while i<10:\n",
    "    while j<10:\n",
    "        print(\"\\U0001f600\\U0001f600\", end=\"\\U0001F606\")\n",
    "        j+=1\n",
    "    print()\n",
    "    j=1\n",
    "    i+=1"
   ]
  },
  {
   "cell_type": "code",
   "execution_count": null,
   "id": "e2a3137b-8723-4369-8cb1-296ef4e3ecc9",
   "metadata": {},
   "outputs": [],
   "source": [
    "#Answer7\n",
    "upperBound=10\n",
    "lowerBound=1\n",
    "while upperBound>=lowerBound:\n",
    "    print(upperBound)\n",
    "    upperBound-=1"
   ]
  },
  {
   "cell_type": "code",
   "execution_count": null,
   "id": "8d40972d-b20d-40b4-adb5-1aa063a8dd45",
   "metadata": {},
   "outputs": [],
   "source": [
    "#Answer8\n",
    "upperBound=10\n",
    "lowerBound=1\n",
    "while upperBound>=lowerBound:\n",
    "    print(upperBound)\n",
    "    upperBound-=1"
   ]
  }
 ],
 "metadata": {
  "kernelspec": {
   "display_name": "Python 3 (ipykernel)",
   "language": "python",
   "name": "python3"
  },
  "language_info": {
   "codemirror_mode": {
    "name": "ipython",
    "version": 3
   },
   "file_extension": ".py",
   "mimetype": "text/x-python",
   "name": "python",
   "nbconvert_exporter": "python",
   "pygments_lexer": "ipython3",
   "version": "3.10.8"
  }
 },
 "nbformat": 4,
 "nbformat_minor": 5
}
